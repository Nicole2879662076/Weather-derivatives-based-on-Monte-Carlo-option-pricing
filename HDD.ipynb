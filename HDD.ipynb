{
 "cells": [
  {
   "cell_type": "code",
   "execution_count": 86,
   "metadata": {},
   "outputs": [],
   "source": [
    "#HDD:\n",
    "  #  HDDs=∑HDDi=∑max（0，Tref -Ti）\n",
    "   # Ti=T_Average\n",
    "    #Tref=T_standard\n",
    "    #Tref standard 18 c which 65 F\n",
    "    \n",
    "#St:\n",
    "    #St(Call)=exp[-r(T-t）]E｛min［Cmax（HDDs（0，t） +HDDs（t，T）-K，0），U］｝"
   ]
  },
  {
   "cell_type": "code",
   "execution_count": 87,
   "metadata": {},
   "outputs": [],
   "source": [
    "import numpy as np\n",
    "import math\n",
    "import csv\n",
    "\n",
    "import numpy as np\n",
    "from random import gauss\n",
    "from math import exp, sqrt"
   ]
  },
  {
   "cell_type": "code",
   "execution_count": 88,
   "metadata": {},
   "outputs": [],
   "source": [
    "Tref=18"
   ]
  },
  {
   "cell_type": "code",
   "execution_count": 89,
   "metadata": {},
   "outputs": [],
   "source": [
    "#Beijing\n",
    "#Tref=18\n",
    "\n",
    "with open('Beijing.csv')as Beijing:\n",
    "    Beijing_csv=csv.reader(Beijing)\n",
    "    HDD_s=0\n",
    "    Date=[]\n",
    "    Ti=[]\n",
    "    for row in Beijing_csv:\n",
    "        Date.append(row[0])\n",
    "        Ti.append(row[2])"
   ]
  },
  {
   "cell_type": "code",
   "execution_count": 90,
   "metadata": {},
   "outputs": [],
   "source": [
    "for n in range(1,len(Ti)):\n",
    "    Date_str=str(Date[n])\n",
    "    year=Date_str.split(\"/\")[0]\n",
    "    month=Date_str.split(\"/\")[1]"
   ]
  },
  {
   "cell_type": "code",
   "execution_count": 91,
   "metadata": {},
   "outputs": [],
   "source": [
    "#\"2019/1/1\"    25343\n",
    "#\"2019/7/1\"    25524\n",
    "#\"2020/1/1\"    25708\n",
    "#\"2020/7/1\"    25890\n",
    "#\"2021/1/1\"    26074\n",
    "#\"2021/7/1\"    26252\n"
   ]
  },
  {
   "cell_type": "code",
   "execution_count": 92,
   "metadata": {},
   "outputs": [],
   "source": [
    "a=[25343,25524,25708,25890,26074]\n",
    "b=[25524,25708,25890,26074,26252]"
   ]
  },
  {
   "cell_type": "code",
   "execution_count": 95,
   "metadata": {},
   "outputs": [],
   "source": [
    "#字段名称\n",
    "fields = ['DATE','TAVG','HDDi','HDDs']\n",
    "\n",
    "#csv文件的名字\n",
    "filename = 'BeijingHDD.csv'\n",
    "\n",
    "#写入csv文件\n",
    "with open(filename,'w') as csvfile:\n",
    "    csvwriter = csv.writer(csvfile)\n",
    "\n",
    "    #写入字段\n",
    "    csvwriter.writerow(fields)\n",
    "    \n",
    "#19年开始\n",
    "    \n",
    "    \n",
    "    rows=[]\n",
    "    HDD_0t=[]\n",
    "    for n in range (5):\n",
    "        beg=a[n]\n",
    "        end=b[n]\n",
    "        HDDs=0\n",
    "        for i in range(beg,end):\n",
    "            Ti_num=float(Ti[i])\n",
    "            HDDi=max(0,Tref-Ti_num)\n",
    "            HDDs=HDDi+HDDs\n",
    "\n",
    "            row=[]\n",
    "            row.append(Date[i])\n",
    "            row.append(Ti[i])\n",
    "            row.append(HDDi)\n",
    "            row.append(HDDs)\n",
    "\n",
    "            rows.append(row)\n",
    "\n",
    "        csvwriter.writerows(rows)\n",
    "        \n",
    "\n"
   ]
  },
  {
   "cell_type": "code",
   "execution_count": 94,
   "metadata": {},
   "outputs": [],
   "source": [
    "Data_s=[2019.0101, 2019.0701, 2020.0101, 2020.0701, 2021.0101 ]"
   ]
  },
  {
   "cell_type": "code",
   "execution_count": 79,
   "metadata": {},
   "outputs": [],
   "source": [
    "HDD_0t=[]"
   ]
  },
  {
   "cell_type": "code",
   "execution_count": 80,
   "metadata": {},
   "outputs": [],
   "source": [
    "with open('BeijingHDD.csv')as BeijingHDD:\n",
    "    BeijingHDD_csv=csv.reader(BeijingHDD)\n",
    "    \n",
    "    hdds=[]\n",
    "    for row in BeijingHDD:\n",
    "        \n",
    "        hdds.append(row.split(\",\")[3])\n",
    "        \n",
    "    HDD_0t.append(hdds[len(hdds)-1])\n",
    "    "
   ]
  },
  {
   "cell_type": "code",
   "execution_count": 69,
   "metadata": {},
   "outputs": [
    {
     "name": "stdout",
     "output_type": "stream",
     "text": [
      "['1404.875\\n']\n"
     ]
    }
   ],
   "source": [
    "print(HDD_0t)"
   ]
  },
  {
   "cell_type": "code",
   "execution_count": 54,
   "metadata": {},
   "outputs": [],
   "source": [
    "##HDDs\n",
    "#2019.1.1==1404.875   \n",
    "#2019.7.1==1063.5\n",
    "#2020.1.1==1399   \n",
    "#2020.7.1==1115.125\n",
    "#2021.1.1==1390.25   "
   ]
  },
  {
   "cell_type": "code",
   "execution_count": 55,
   "metadata": {},
   "outputs": [],
   "source": [
    "#Data_s=[2019.0101, 2019.0701, 2020.0101, 2020.0701, 2021.0101 ]\n",
    "#HDDs_0t=[1404.875,1063.5,1399,1115.125,1390.25 ]"
   ]
  },
  {
   "cell_type": "code",
   "execution_count": null,
   "metadata": {},
   "outputs": [],
   "source": []
  },
  {
   "cell_type": "code",
   "execution_count": 56,
   "metadata": {
    "scrolled": true
   },
   "outputs": [],
   "source": [
    "## 准备工作\n",
    "import numpy as np\n",
    "import math\n",
    "\n",
    "## 初始化关键参数的值\n",
    "#S0：标的物在时间t的价格水平；为[HDDs(0,t)]\n",
    "#   σ：标的物收益率的波动率，可理解为它的收益率的标准差0.51。\n",
    "#   K：期权的行权价格；我们假设为100（参考现值有利法，设定为低于历年同期水平的价格）\n",
    "#   T：期权到期日；假设为半年（0.5）。\n",
    "#   r：无风险利率；假设为2.72%。\n",
    "\n",
    "\n",
    "def HDD_tT(S0):\n",
    "    sigma=0.51\n",
    "    K=100\n",
    "    T=0.5\n",
    "    r=0.0272\n",
    "    I=1000000 ##I个随机数。重复I次\n",
    "\n",
    "    ## 估值\n",
    "    z = np.random.standard_normal(I) ##返回1000000个服从标准正太分布的随机小数\n",
    "    ST = S0 * np.exp((r-0.5*sigma**2)*T + sigma*math.sqrt(T)*z)\n",
    "    hT = np.maximum(ST-K, 0) ##到期的回报\n",
    "    return math.exp(-r*T)*np.mean(hT) ##蒙特卡洛模拟估计值\n",
    "    #HDD_tT=co\n",
    "    "
   ]
  },
  {
   "cell_type": "code",
   "execution_count": 57,
   "metadata": {},
   "outputs": [
    {
     "data": {
      "text/plain": [
       "1306.863460138502"
      ]
     },
     "execution_count": 57,
     "metadata": {},
     "output_type": "execute_result"
    }
   ],
   "source": [
    "HDD_tT(1404.875)"
   ]
  },
  {
   "cell_type": "code",
   "execution_count": 58,
   "metadata": {},
   "outputs": [
    {
     "data": {
      "text/plain": [
       "0.07044253785879573"
      ]
     },
     "execution_count": 58,
     "metadata": {},
     "output_type": "execute_result"
    }
   ],
   "source": [
    "1-(HDD_tT(1404.875)/1404.875)"
   ]
  },
  {
   "cell_type": "code",
   "execution_count": 59,
   "metadata": {},
   "outputs": [],
   "source": [
    "#字段名称\n",
    "fields = ['基线温度','起始日期','实际指数','预测指数','相对误差']\n",
    "\n",
    "#csv文件的名字\n",
    "filename = 'Beijing-总结.csv'\n",
    "\n",
    "#写入csv文件\n",
    "with open(filename,'w') as csvfile:\n",
    "    csvwriter = csv.writer(csvfile)\n",
    "\n",
    "    #写入字段\n",
    "    csvwriter.writerow(fields)\n",
    "    \n",
    "    rows=[]\n",
    "    for i in range(5):\n",
    "        row=[]\n",
    "        row.append(Tref)#Tref为基线温度\n",
    "        row.append(Data_s[i])\n",
    "        row.append(HDDs_0t[i])\n",
    "        #调用HDD_tT\n",
    "        HDD_T=HDD_tT(HDDs_0t[i])\n",
    "        row.append(HDD_T)\n",
    "        #误差\n",
    "        re_error=1-(HDD_T/HDDs_0t[i])\n",
    "        row.append(re_error)\n",
    "        \n",
    "        rows.append(row)\n",
    "        \n",
    "    csvwriter.writerows(rows)\n",
    "    \n"
   ]
  },
  {
   "cell_type": "code",
   "execution_count": null,
   "metadata": {},
   "outputs": [],
   "source": [
    "#St:\n",
    "    #St(Call)=exp[-r(T-t）]E｛min［Cmax（HDDs（0，t） +HDDs（t，T）-K，0），U］｝"
   ]
  },
  {
   "cell_type": "code",
   "execution_count": null,
   "metadata": {},
   "outputs": [],
   "source": []
  },
  {
   "cell_type": "code",
   "execution_count": null,
   "metadata": {},
   "outputs": [],
   "source": []
  },
  {
   "cell_type": "code",
   "execution_count": null,
   "metadata": {},
   "outputs": [],
   "source": []
  },
  {
   "cell_type": "code",
   "execution_count": null,
   "metadata": {},
   "outputs": [],
   "source": []
  },
  {
   "cell_type": "code",
   "execution_count": 137,
   "metadata": {},
   "outputs": [],
   "source": [
    "def calculate_S_T(S, v, r, T):\n",
    "    \"\"\"模拟epsilon，计算S_T\"\"\"\n",
    "    return S * exp((r - 0.5 * v ** 2) * T + v * sqrt(T) * gauss(0.0, 1.0))\n",
    "\n",
    "def option_payoff(flag, S_T, K):\n",
    "    \"\"\"期权收益\"\"\"\n",
    "    if flag == 'call':\n",
    "        return max(S_T - K, 0.0)\n",
    "    else:\n",
    "        return max(K - S_T, 0.0)\n",
    "\n",
    "def option_price(flag, S, r, T, v, K, simulations):\n",
    "    \"\"\"模拟\"\"\"\n",
    "    payoffs = []\n",
    "    discout = exp(-r * T)\n",
    "    for i in range(simulations):\n",
    "        S_T = calculate_S_T(S, v, r, T)\n",
    "        payoffs.append(\n",
    "            option_payoff(flag, S_T, K)\n",
    "        )\n",
    "    price = discout * sum(payoffs) / float(simulations)\n",
    "    return price"
   ]
  },
  {
   "cell_type": "code",
   "execution_count": null,
   "metadata": {},
   "outputs": [],
   "source": []
  },
  {
   "cell_type": "code",
   "execution_count": 139,
   "metadata": {},
   "outputs": [
    {
     "name": "stdout",
     "output_type": "stream",
     "text": [
      "79.97670085095626\n",
      "40.503321133147345\n"
     ]
    }
   ],
   "source": [
    "S = 276.10\n",
    "r = 2.72/100\n",
    "T=0.5\n",
    "v = 0.407530933\n",
    "K = 250\n",
    "simulations = 1000000\n",
    "print(option_price('call', S, r, T, v, K, simulations))\n",
    "print(option_price('put', S, r, T, v, K, simulations))"
   ]
  },
  {
   "cell_type": "code",
   "execution_count": null,
   "metadata": {},
   "outputs": [],
   "source": []
  }
 ],
 "metadata": {
  "kernelspec": {
   "display_name": "Python 3",
   "language": "python",
   "name": "python3"
  },
  "language_info": {
   "codemirror_mode": {
    "name": "ipython",
    "version": 3
   },
   "file_extension": ".py",
   "mimetype": "text/x-python",
   "name": "python",
   "nbconvert_exporter": "python",
   "pygments_lexer": "ipython3",
   "version": "3.7.11"
  },
  "toc": {
   "base_numbering": 1,
   "nav_menu": {},
   "number_sections": true,
   "sideBar": true,
   "skip_h1_title": false,
   "title_cell": "Table of Contents",
   "title_sidebar": "Contents",
   "toc_cell": false,
   "toc_position": {},
   "toc_section_display": true,
   "toc_window_display": false
  }
 },
 "nbformat": 4,
 "nbformat_minor": 4
}
