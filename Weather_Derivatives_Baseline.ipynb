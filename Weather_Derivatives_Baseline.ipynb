{
 "cells": [
  {
   "cell_type": "code",
   "execution_count": 1,
   "id": "d067f7bc-62d3-4995-9cb4-c8fb36cc22d6",
   "metadata": {},
   "outputs": [],
   "source": [
    "import pandas as pd\n",
    "import numpy as np\n",
    "import json\n",
    "import sys, os\n",
    "import random\n",
    "import numpy as np\n",
    "import pandas as pd \n",
    "\n",
    "import torch\n",
    "import torch.nn as nn\n",
    "import torch.nn.functional as F \n",
    "from torch.utils.data import DataLoader, Dataset\n",
    "\n",
    "import pytorch_lightning as pl\n",
    "from pytorch_lightning import LightningModule, Trainer, seed_everything\n",
    "from pytorch_lightning.callbacks import LearningRateMonitor,ModelCheckpoint\n",
    "from pytorch_lightning.loggers import TensorBoardLogger\n",
    "from pytorch_lightning.callbacks import ModelCheckpoint, EarlyStopping"
   ]
  },
  {
   "cell_type": "code",
   "execution_count": 2,
   "id": "872b0e2b-bd00-4168-865f-45c2919d0f6c",
   "metadata": {},
   "outputs": [],
   "source": [
    "data_dir = \"../data/\""
   ]
  },
  {
   "cell_type": "code",
   "execution_count": 3,
   "id": "3e397a07-7a6b-4c49-b779-1ab8c3a9f067",
   "metadata": {},
   "outputs": [],
   "source": [
    "# train data\n",
    "data = pd.read_csv(data_dir + \"train_data.txt\", sep=\"\\t\")\n",
    "data[\"launch_seq\"] = data.launch_seq.apply(lambda x: json.loads(x))\n",
    "data[\"playtime_seq\"] = data.playtime_seq.apply(lambda x: json.loads(x))\n",
    "data[\"duration_prefer\"] = data.duration_prefer.apply(lambda x: json.loads(x))\n",
    "data[\"interact_prefer\"] = data.interact_prefer.apply(lambda x: json.loads(x))\n",
    "\n",
    "test_data = pd.read_csv(data_dir + \"test_data.txt\", sep=\"\\t\")\n",
    "test_data[\"launch_seq\"] = test_data.launch_seq.apply(lambda x: json.loads(x))\n",
    "test_data[\"playtime_seq\"] = test_data.playtime_seq.apply(lambda x: json.loads(x))\n",
    "test_data[\"duration_prefer\"] = test_data.duration_prefer.apply(lambda x: json.loads(x))\n",
    "test_data[\"interact_prefer\"] = test_data.interact_prefer.apply(lambda x: json.loads(x))\n",
    "test_data['label'] = 0\n",
    "\n",
    "#data = data.sample(frac=1).reset_index(drop=True)\n"
   ]
  },
  {
   "cell_type": "code",
   "execution_count": null,
   "id": "097aa0e2-3e6e-416e-b8c2-9b5512d02bb6",
   "metadata": {},
   "outputs": [],
   "source": [
    "data.head()"
   ]
  },
  {
   "cell_type": "code",
   "execution_count": 4,
   "id": "778d8fef-f2d7-424a-9f93-45a20807c7f4",
   "metadata": {},
   "outputs": [],
   "source": [
    "class WSDMDataset(Dataset):\n",
    "    def __init__(self, df):\n",
    "        super(WSDMDataset, self).__init__()\n",
    "        self.df = df\n",
    "        self.feat_col = list(set(self.df.columns) - set(['user_id', 'end_date', 'label', 'launch_seq', 'playtime_seq', \n",
    "                'duration_prefer', 'interact_prefer']))\n",
    "        self.df_feat = self.df[self.feat_col]\n",
    "    \n",
    "    def __getitem__(self, index):\n",
    "        launch_seq = self.df['launch_seq'].iloc[index]\n",
    "        playtime_seq = self.df['playtime_seq'].iloc[index]\n",
    "        duration_prefer = self.df['duration_prefer'].iloc[index]\n",
    "        interact_prefer = self.df['interact_prefer'].iloc[index]\n",
    "\n",
    "        feat = self.df_feat.iloc[index].values.astype(np.float32)\n",
    "\n",
    "        launch_seq = torch.tensor(launch_seq, dtype=torch.float)\n",
    "        playtime_seq = torch.tensor(playtime_seq, dtype=torch.float)\n",
    "        duration_prefer = torch.tensor(duration_prefer, dtype=torch.float)\n",
    "        interact_prefer = torch.tensor(interact_prefer, dtype=torch.float)\n",
    "        feat = torch.tensor(feat, dtype=torch.float)\n",
    "\n",
    "        label = torch.tensor(self.df['label'].iloc[index], dtype=torch.float)\n",
    "        return launch_seq, playtime_seq, duration_prefer, interact_prefer, feat, label\n",
    "\n",
    "    def __len__(self):\n",
    "        return len(self.df)"
   ]
  },
  {
   "cell_type": "code",
   "execution_count": 5,
   "id": "e6a29f48-2f5c-4bbb-8769-feae77432b1f",
   "metadata": {},
   "outputs": [],
   "source": [
    "class WSDMDataModule(pl.LightningDataModule):\n",
    "    def __init__(self, data):\n",
    "        super().__init__()\n",
    "\n",
    "    def prepare_data(self):\n",
    "        pass\n",
    "\n",
    "    def setup(self, stage=None):\n",
    "        self.train_dataset = WSDMDataset(data.iloc[:-6000])\n",
    "        self.val_dataset = WSDMDataset(data.iloc[-6000:])\n",
    "        self.test_dataset = None\n",
    "\n",
    "    def train_dataloader(self):\n",
    "        return DataLoader(self.train_dataset, batch_size=CFG.batch_size, num_workers=16)\n",
    "\n",
    "    def val_dataloader(self):\n",
    "        return DataLoader(self.val_dataset, batch_size=CFG.batch_size*2, num_workers=16)\n",
    "\n",
    "    def test_dataloader(self):\n",
    "        return DataLoader(self.test_dataset, batch_size=CFG.batch_size*2, num_workers=16)"
   ]
  },
  {
   "cell_type": "code",
   "execution_count": 6,
   "id": "2cc8eaff-9c4e-412a-9068-930bcfff2320",
   "metadata": {},
   "outputs": [],
   "source": [
    "class WSDMModel(pl.LightningModule):\n",
    "    def __init__(self):\n",
    "        super(WSDMModel, self).__init__()\n",
    "        \n",
    "        self.launch_seq_gru = nn.GRU(1, 32)\n",
    "        self.playtime_seq_gru = nn.GRU(1, 32)\n",
    "        self.fc1 = nn.Linear(102, 64)\n",
    "        self.fc2 = nn.Linear(64, 1)\n",
    "\n",
    "    def forward(self, launch_seq, playtime_seq, duration_prefer, interact_prefer, feat):\n",
    "        launch_seq = launch_seq.reshape((-1, 32, 1))\n",
    "        playtime_seq = playtime_seq.reshape((-1, 32, 1))\n",
    "\n",
    "        launch_seq_feat = self.launch_seq_gru(launch_seq)[0][:, :, 0]\n",
    "        playtime_seq_feat = self.playtime_seq_gru(playtime_seq)[0][:, :, 0]\n",
    "        \n",
    "        all_feat = torch.cat([launch_seq_feat, playtime_seq_feat, duration_prefer, interact_prefer, feat], 1)\n",
    "        \n",
    "        all_feat_fc1 = self.fc1(all_feat)\n",
    "        all_feat_fc2 = self.fc2(all_feat_fc1)\n",
    "\n",
    "        return all_feat_fc2"
   ]
  },
  {
   "cell_type": "code",
   "execution_count": 7,
   "id": "d9220561-4fb1-41d8-bd7d-f67c0b509f87",
   "metadata": {},
   "outputs": [],
   "source": [
    "class WSDMModule(pl.LightningModule):\n",
    "    def __init__(self, features,learning_rate, weight_decay):\n",
    "        super().__init__()\n",
    "        self.learning_rate = learning_rate\n",
    "        self.model = WSDMModel()\n",
    "\n",
    "    def forward(self, features):\n",
    "        return self.model(features,)\n",
    "\n",
    "    def configure_optimizers(self):\n",
    "        return torch.optim.AdamW(self.model.parameters(), lr=self.learning_rate, weight_decay = self.weight_decay)\n",
    "\n",
    "    def training_step(self, batch, batch_idx):\n",
    "        launch_seq, playtime_seq, duration_prefer, interact_prefer, feat, y = batch\n",
    "        y_hat = self.model(launch_seq, playtime_seq, duration_prefer, interact_prefer, feat)\n",
    "        loss = nn.MSELoss()(y_hat, y)\n",
    "        return loss\n",
    "\n",
    "    def validation_step(self, batch, batch_idx):\n",
    "        launch_seq, playtime_seq, duration_prefer, interact_prefer, feat, y = batch\n",
    "        y_hat = self.model(launch_seq, playtime_seq, duration_prefer, interact_prefer, feat)\n",
    "        loss = nn.MSELoss()(y_hat, y)\n",
    "        metrics = {'val_loss': loss}\n",
    "        self.log_dict(metrics)\n",
    "        return metrics"
   ]
  },
  {
   "cell_type": "code",
   "execution_count": null,
   "id": "b7f7d8ab-5e9a-40f1-8771-2bb2b30a7f75",
   "metadata": {},
   "outputs": [
    {
     "name": "stderr",
     "output_type": "stream",
     "text": [
      "/nfs/home/wangmingjie/.conda/envs/pytorch1.9-cuda11-闪电！/lib/python3.8/site-packages/pytorch_lightning/trainer/connectors/callback_connector.py:90: LightningDeprecationWarning: Setting `Trainer(progress_bar_refresh_rate=1)` is deprecated in v1.5 and will be removed in v1.7. Please pass `pytorch_lightning.callbacks.progress.TQDMProgressBar` with `refresh_rate` directly to the Trainer's `callbacks` argument instead. Or, to disable the progress bar pass `enable_progress_bar = False` to the Trainer.\n",
      "  rank_zero_deprecation(\n",
      "GPU available: True, used: True\n",
      "TPU available: False, using: 0 TPU cores\n",
      "IPU available: False, using: 0 IPUs\n",
      "LOCAL_RANK: 0 - CUDA_VISIBLE_DEVICES: [0]\n",
      "Set SLURM handle signals.\n",
      "\n",
      "  | Name  | Type      | Params\n",
      "------------------------------------\n",
      "0 | model | WSDMModel | 13.4 K\n",
      "------------------------------------\n",
      "13.4 K    Trainable params\n",
      "0         Non-trainable params\n",
      "13.4 K    Total params\n",
      "0.054     Total estimated model params size (MB)\n",
      "/nfs/home/wangmingjie/.conda/envs/pytorch1.9-cuda11-闪电！/lib/python3.8/site-packages/pytorch_lightning/callbacks/model_checkpoint.py:617: UserWarning: Checkpoint directory /nfs/home/wangmingjie/wsdm/code exists and is not empty.\n",
      "  rank_zero_warn(f\"Checkpoint directory {dirpath} exists and is not empty.\")\n"
     ]
    },
    {
     "data": {
      "application/vnd.jupyter.widget-view+json": {
       "model_id": "2a0c0a6ddab044998f2baae318217498",
       "version_major": 2,
       "version_minor": 0
      },
      "text/plain": [
       "Validation sanity check: 0it [00:00, ?it/s]"
      ]
     },
     "metadata": {},
     "output_type": "display_data"
    },
    {
     "name": "stderr",
     "output_type": "stream",
     "text": [
      "/nfs/home/wangmingjie/.conda/envs/pytorch1.9-cuda11-闪电！/lib/python3.8/site-packages/torch/nn/modules/loss.py:528: UserWarning: Using a target size (torch.Size([4096])) that is different to the input size (torch.Size([4096, 1])). This will likely lead to incorrect results due to broadcasting. Please ensure they have the same size.\n",
      "  return F.mse_loss(input, target, reduction=self.reduction)\n",
      "/nfs/home/wangmingjie/.conda/envs/pytorch1.9-cuda11-闪电！/lib/python3.8/site-packages/torch/nn/modules/loss.py:528: UserWarning: Using a target size (torch.Size([1904])) that is different to the input size (torch.Size([1904, 1])). This will likely lead to incorrect results due to broadcasting. Please ensure they have the same size.\n",
      "  return F.mse_loss(input, target, reduction=self.reduction)\n"
     ]
    },
    {
     "data": {
      "application/vnd.jupyter.widget-view+json": {
       "model_id": "489d6efb9b5748cba719d2cd8f6b742b",
       "version_major": 2,
       "version_minor": 0
      },
      "text/plain": [
       "Training: 0it [00:00, ?it/s]"
      ]
     },
     "metadata": {},
     "output_type": "display_data"
    },
    {
     "name": "stderr",
     "output_type": "stream",
     "text": [
      "/nfs/home/wangmingjie/.conda/envs/pytorch1.9-cuda11-闪电！/lib/python3.8/site-packages/torch/nn/modules/loss.py:528: UserWarning: Using a target size (torch.Size([81])) that is different to the input size (torch.Size([81, 1])). This will likely lead to incorrect results due to broadcasting. Please ensure they have the same size.\n",
      "  return F.mse_loss(input, target, reduction=self.reduction)\n"
     ]
    },
    {
     "data": {
      "application/vnd.jupyter.widget-view+json": {
       "model_id": "0202f56845844e72a9f125fb987f0603",
       "version_major": 2,
       "version_minor": 0
      },
      "text/plain": [
       "Validating: 0it [00:00, ?it/s]"
      ]
     },
     "metadata": {},
     "output_type": "display_data"
    },
    {
     "data": {
      "application/vnd.jupyter.widget-view+json": {
       "model_id": "23f4584660264746bb52abffa1526f49",
       "version_major": 2,
       "version_minor": 0
      },
      "text/plain": [
       "Validating: 0it [00:00, ?it/s]"
      ]
     },
     "metadata": {},
     "output_type": "display_data"
    },
    {
     "data": {
      "application/vnd.jupyter.widget-view+json": {
       "model_id": "a81bf7595ddd4d1a820916229ef92e08",
       "version_major": 2,
       "version_minor": 0
      },
      "text/plain": [
       "Validating: 0it [00:00, ?it/s]"
      ]
     },
     "metadata": {},
     "output_type": "display_data"
    },
    {
     "data": {
      "application/vnd.jupyter.widget-view+json": {
       "model_id": "c8b3aea3642d4a5e85e6fdfcbda14bdd",
       "version_major": 2,
       "version_minor": 0
      },
      "text/plain": [
       "Validating: 0it [00:00, ?it/s]"
      ]
     },
     "metadata": {},
     "output_type": "display_data"
    },
    {
     "data": {
      "application/vnd.jupyter.widget-view+json": {
       "model_id": "7b08662575c648ae87a3c3f3ed51a665",
       "version_major": 2,
       "version_minor": 0
      },
      "text/plain": [
       "Validating: 0it [00:00, ?it/s]"
      ]
     },
     "metadata": {},
     "output_type": "display_data"
    },
    {
     "data": {
      "application/vnd.jupyter.widget-view+json": {
       "model_id": "6a35ec7954ed4e75b90c36c638625e92",
       "version_major": 2,
       "version_minor": 0
      },
      "text/plain": [
       "Validating: 0it [00:00, ?it/s]"
      ]
     },
     "metadata": {},
     "output_type": "display_data"
    },
    {
     "data": {
      "application/vnd.jupyter.widget-view+json": {
       "model_id": "a60d186da7d34b28b6f7b779ef801ad2",
       "version_major": 2,
       "version_minor": 0
      },
      "text/plain": [
       "Validating: 0it [00:00, ?it/s]"
      ]
     },
     "metadata": {},
     "output_type": "display_data"
    },
    {
     "data": {
      "application/vnd.jupyter.widget-view+json": {
       "model_id": "f6650c67cb5749f09a359f4adaa5ef02",
       "version_major": 2,
       "version_minor": 0
      },
      "text/plain": [
       "Validating: 0it [00:00, ?it/s]"
      ]
     },
     "metadata": {},
     "output_type": "display_data"
    },
    {
     "data": {
      "application/vnd.jupyter.widget-view+json": {
       "model_id": "09aae90ea5204416aced9585a0103e5b",
       "version_major": 2,
       "version_minor": 0
      },
      "text/plain": [
       "Validating: 0it [00:00, ?it/s]"
      ]
     },
     "metadata": {},
     "output_type": "display_data"
    },
    {
     "data": {
      "application/vnd.jupyter.widget-view+json": {
       "model_id": "4a074167d10b4ef7b9041f3ee65a2345",
       "version_major": 2,
       "version_minor": 0
      },
      "text/plain": [
       "Validating: 0it [00:00, ?it/s]"
      ]
     },
     "metadata": {},
     "output_type": "display_data"
    },
    {
     "data": {
      "application/vnd.jupyter.widget-view+json": {
       "model_id": "1c3abc471d464d1a860ceadfe3ae3b0a",
       "version_major": 2,
       "version_minor": 0
      },
      "text/plain": [
       "Validating: 0it [00:00, ?it/s]"
      ]
     },
     "metadata": {},
     "output_type": "display_data"
    },
    {
     "data": {
      "application/vnd.jupyter.widget-view+json": {
       "model_id": "b9f830fdf90b4b66bd8b4fa3348d477e",
       "version_major": 2,
       "version_minor": 0
      },
      "text/plain": [
       "Validating: 0it [00:00, ?it/s]"
      ]
     },
     "metadata": {},
     "output_type": "display_data"
    },
    {
     "data": {
      "application/vnd.jupyter.widget-view+json": {
       "model_id": "83a09cef1c82473db73cd094a2a2c83e",
       "version_major": 2,
       "version_minor": 0
      },
      "text/plain": [
       "Validating: 0it [00:00, ?it/s]"
      ]
     },
     "metadata": {},
     "output_type": "display_data"
    },
    {
     "data": {
      "application/vnd.jupyter.widget-view+json": {
       "model_id": "126182d0c7ef4ce6a8e5331d154141c8",
       "version_major": 2,
       "version_minor": 0
      },
      "text/plain": [
       "Validating: 0it [00:00, ?it/s]"
      ]
     },
     "metadata": {},
     "output_type": "display_data"
    },
    {
     "data": {
      "application/vnd.jupyter.widget-view+json": {
       "model_id": "dd2711a819b848da85f74515cb9e63ce",
       "version_major": 2,
       "version_minor": 0
      },
      "text/plain": [
       "Validating: 0it [00:00, ?it/s]"
      ]
     },
     "metadata": {},
     "output_type": "display_data"
    },
    {
     "data": {
      "application/vnd.jupyter.widget-view+json": {
       "model_id": "ad5f7daad28342548f80ef90368d0ee9",
       "version_major": 2,
       "version_minor": 0
      },
      "text/plain": [
       "Validating: 0it [00:00, ?it/s]"
      ]
     },
     "metadata": {},
     "output_type": "display_data"
    },
    {
     "data": {
      "application/vnd.jupyter.widget-view+json": {
       "model_id": "229e977f253a424cb13787ad3506c5cc",
       "version_major": 2,
       "version_minor": 0
      },
      "text/plain": [
       "Validating: 0it [00:00, ?it/s]"
      ]
     },
     "metadata": {},
     "output_type": "display_data"
    },
    {
     "data": {
      "application/vnd.jupyter.widget-view+json": {
       "model_id": "2cfdbacb0f2b4be986dc3028ed8700ce",
       "version_major": 2,
       "version_minor": 0
      },
      "text/plain": [
       "Validating: 0it [00:00, ?it/s]"
      ]
     },
     "metadata": {},
     "output_type": "display_data"
    },
    {
     "data": {
      "application/vnd.jupyter.widget-view+json": {
       "model_id": "3233f4cd250c4f438290db64649ae260",
       "version_major": 2,
       "version_minor": 0
      },
      "text/plain": [
       "Validating: 0it [00:00, ?it/s]"
      ]
     },
     "metadata": {},
     "output_type": "display_data"
    },
    {
     "data": {
      "application/vnd.jupyter.widget-view+json": {
       "model_id": "24d017d2697d408f8e5a4e3f9344f6e0",
       "version_major": 2,
       "version_minor": 0
      },
      "text/plain": [
       "Validating: 0it [00:00, ?it/s]"
      ]
     },
     "metadata": {},
     "output_type": "display_data"
    },
    {
     "data": {
      "application/vnd.jupyter.widget-view+json": {
       "model_id": "db31254f166d464c90dcb69955970a0d",
       "version_major": 2,
       "version_minor": 0
      },
      "text/plain": [
       "Validating: 0it [00:00, ?it/s]"
      ]
     },
     "metadata": {},
     "output_type": "display_data"
    }
   ],
   "source": [
    "class CFG:\n",
    "    batch_size = 4096\n",
    "    learning_rate = 1e-4\n",
    "    weight_decay = 1e-4\n",
    "    \n",
    "    \n",
    "dm = WSDMDataModule(data)\n",
    "WSDMmpmodel = WSDMModule(\n",
    "    features = dm,\n",
    "    learning_rate=CFG.learning_rate,\n",
    "    weight_decay = CFG.weight_decay,\n",
    ")\n",
    "\n",
    "trainer = pl.Trainer(\n",
    "    progress_bar_refresh_rate=1,\n",
    "    max_epochs=50,\n",
    "    gpus=[0],\n",
    "    weights_save_path='WSDM',\n",
    "    logger=TensorBoardLogger(\"lightning_logs/\", name=\"resnet\"),\n",
    "    callbacks=[LearningRateMonitor(logging_interval=\"step\"),\n",
    "               ModelCheckpoint(monitor='val_loss',dirpath='./',\n",
    "                               mode = 'min',\n",
    "                               filename='./output/WSDM-{epoch:02d}_{val_loss:.2f}',\n",
    "                                  save_top_k = 2,\n",
    "                                  save_on_train_epoch_end = True)\n",
    "              ],\n",
    "    amp_backend=\"apex\",\n",
    "    #accelerator='ddp'\n",
    "    \n",
    ")\n",
    "\n",
    "\n",
    "trainer.fit(WSDMmpmodel, dm)\n",
    "trainer.validate(WSDMmpmodel, dm, verbose=True)"
   ]
  },
  {
   "cell_type": "code",
   "execution_count": null,
   "id": "394f0b4e-7a10-444f-9573-1a30842a4c7f",
   "metadata": {},
   "outputs": [],
   "source": [
    "trainer.validate(WSDMmpmodel, dm, verbose=True)"
   ]
  },
  {
   "cell_type": "code",
   "execution_count": null,
   "id": "c18210ce-eb17-4353-8eba-f1cce4af3481",
   "metadata": {},
   "outputs": [],
   "source": []
  }
 ],
 "metadata": {
  "kernelspec": {
   "display_name": "pytorch1.9-cuda11-闪电！ (ipykernel)",
   "language": "python",
   "name": "python3"
  },
  "language_info": {
   "codemirror_mode": {
    "name": "ipython",
    "version": 3
   },
   "file_extension": ".py",
   "mimetype": "text/x-python",
   "name": "python",
   "nbconvert_exporter": "python",
   "pygments_lexer": "ipython3",
   "version": "3.8.10"
  }
 },
 "nbformat": 4,
 "nbformat_minor": 5
}
